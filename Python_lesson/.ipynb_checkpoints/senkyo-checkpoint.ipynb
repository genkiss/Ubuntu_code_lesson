{
 "cells": [
  {
   "cell_type": "code",
   "execution_count": 10,
   "metadata": {
    "scrolled": true
   },
   "outputs": [
    {
     "name": "stdout",
     "output_type": "stream",
     "text": [
      "           名前  年齢       略歴   政党 新旧   重複\n",
      "0 NaN   井上　貴博  50    〈元〉県議   自民  新   比例\n",
      "1 NaN  比江嶋　俊和  65  〈元〉福岡市議   共産  新  NaN\n",
      "2 NaN  竹内　今日生  38       医師  みんな  新   比例\n",
      "3 NaN   犬丸　勝子  57  介護事業所経営   無所  新  NaN\n",
      "4 NaN    松本　龍  61   〈元〉復興相   民主  前   比例\n",
      "           名前  年齢        略歴  政党 新旧   重複\n",
      "0 NaN  頭山　晋太郎  35  〈元〉物流会社員  維新  新   比例\n",
      "1 NaN   稲富　修二  42   〈元〉丸紅社員  民主  前   比例\n",
      "2 NaN    小谷　学  39     貿易会社長  未来  新   比例\n",
      "3 NaN    鬼木　誠  40     〈元〉県議  自民  新   比例\n",
      "4 NaN   倉元　達朗  45   〈元〉福岡市議  共産  新  NaN\n",
      "          名前  年齢        略歴   政党 新旧   重複\n",
      "0 NaN  川原　康裕  31     民青県委員   共産  新  NaN\n",
      "1 NaN  藤田　一枝  63  〈元〉厚労政務官   民主  前   比例\n",
      "2 NaN  寺島　浩幸  51   〈元〉福岡市議  みんな  新   比例\n",
      "3 NaN   古賀　篤  40  〈元〉財務省職員   自民  新   比例\n",
      "          名前  年齢         略歴  政党 新旧   重複\n",
      "0 NaN  宮内　秀樹  50  〈元〉衆院議員秘書  自民  新   比例\n",
      "1 NaN  新留　清隆  57     党地区委員長  共産  新  NaN\n",
      "2 NaN  吉冨　和枝  53     幸福実現党員  諸派  新  NaN\n",
      "3 NaN  岸本　善成  38      〈元〉県議  民主  新   比例\n",
      "4 NaN  古賀　敬章  59    〈元〉山口県議  未来  前   比例\n",
      "5 NaN  河野　正美  51    医療法人理事長  維新  新   比例\n",
      "          名前  年齢        略歴  政党 新旧   重複\n",
      "0 NaN  楠田　大蔵  37  〈元〉防衛政務官  民主  前   比例\n",
      "1 NaN  原田　義昭  68       弁護士  自民  元   比例\n",
      "2 NaN  浜武　振一  47  〈元〉筑紫野市議  未来  新   比例\n",
      "3 NaN  田中　陽二  56   〈元〉赤旗記者  共産  新  NaN\n",
      "4 NaN  吉田　俊之  56  〈元〉ＫＢＣ記者  維新  新   比例\n",
      "          名前  年齢         略歴  政党 新旧   重複\n",
      "0 NaN  内野　雅晴  36     整骨院副院長  維新  新   比例\n",
      "1 NaN  金子　睦美  51    党地区副委員長  共産  新  NaN\n",
      "2 NaN  江口　善明  38      〈元〉県議  無所  新  NaN\n",
      "3 NaN  古賀　一成  65  〈元〉衆院国交委長  民主  前   比例\n",
      "4 NaN  鳩山　邦夫  64     〈元〉総務相  無所  前  NaN\n",
      "          名前  年齢         略歴   政党 新旧   重複\n",
      "0 NaN   藤丸　敏  52  〈元〉衆院議員秘書   自民  新   比例\n",
      "1 NaN  古賀　輝生  49  〈元〉ペット関連業  みんな  新   比例\n",
      "2 NaN  野田　国義  54    〈元〉八女市長   民主  前   比例\n",
      "3 NaN   江口　学  38    党地区常任委員   共産  新  NaN\n",
      "          名前  年齢         略歴  政党 新旧   重複\n",
      "0 NaN  麻生　太郎  72      〈元〉首相  自民  前   比例\n",
      "1 NaN  山本　剛正  40  〈元〉衆院議員秘書  民主  前   比例\n",
      "2 NaN  新井　高雄  63    〈元〉嘉麻市議  共産  新  NaN\n",
      "           名前  年齢        略歴  政党 新旧  重複\n",
      "0 NaN   真島　省三  49     〈元〉県議  共産  新  比例\n",
      "1 NaN    荒木　学  47    ペット関連業  維新  新  比例\n",
      "2 NaN   三原　朝彦  65  〈元〉党国際局長  自民  元  比例\n",
      "3 NaN  緒方　林太郎  39  〈元〉外務省職員  民主  前  比例\n",
      "           名前  年齢        略歴   政党 新旧   重複\n",
      "0 NaN   山本　幸三  64  〈元〉経産副大臣   自民  前  NaN\n",
      "1 NaN  高瀬　菜穂子  52     〈元〉県議   共産  新  NaN\n",
      "2 NaN   佐藤　正夫  57     〈元〉県議  みんな  新   比例\n",
      "3 NaN    城井　崇  39  〈元〉文科政務官   民主  前   比例\n",
      "           名前  年齢       略歴  政党 新旧   重複\n",
      "0 NaN   武田　良太  44     党県会長  自民  前   比例\n",
      "1 NaN  山下　登美子  59  党地区常任委員  共産  新  NaN\n",
      "2 NaN    堀　大助  33   〈元〉弁護士  維新  新   比例\n",
      "3 NaN   谷瀬　綾子  36   〈元〉党職員  社民  新   比例\n"
     ]
    }
   ],
   "source": [
    "import pandas as pd\n",
    "tables = pd.read_html('http://www.asahi.com/senkyo/sousenkyo46/kouho/A40.html', flavor='bs4')\n",
    "\n",
    "for i in range(11):\n",
    "    table = tables[(i)]\n",
    "    print(table)"
   ]
  },
  {
   "cell_type": "code",
   "execution_count": 10,
   "metadata": {
    "collapsed": true
   },
   "outputs": [],
   "source": [
    "import requests\n",
    "from bs4 import BeautifulSoup\n",
    "\n",
    "new_pc_html = requests.get('https://www.amazon.co.jp/gp/new-releases/computers/ref=zg_bsnr_nav_0')\n",
    "soup = BeautifulSoup(new_pc_html.text, 'html.parser')"
   ]
  },
  {
   "cell_type": "code",
   "execution_count": 26,
   "metadata": {},
   "outputs": [
    {
     "name": "stdout",
     "output_type": "stream",
     "text": [
      "1.Logicool ロジクール MXTB1s bluetooth ワイヤレス トラックボール MX ERGO Windows,Mac対応 筋緊張20%軽減 8ボタン 高速充電式 2年間無償保証\n",
      "2.BenQ モニター ディスプレイ GW2470HL 23.8インチ/フルHD/AMVA+/スリムベゼル/HDMI2系統,VGA端子/ブルーライト軽減Plus\n",
      "3.TP-Link WIFI 無線LAN ルーター 11n/g/b 450Mbps 3 x 3 MIMO 3年保証 TL-WR940N(利用推奨環境4人・3LDK・2階建)\n",
      "4.LED プロジェクター 小型 1800ルーメン 1080PフルHD対応 800*480解像度 HDMIケーブル付属 台形補正 パソコン/スマホ/タブレット/ゲーム機など接続可能 USB/SDカード/HDMI/AV/VGAサポート 標準的なカメラ三脚に対応 3年保証\n",
      "5.Logicool ロジクール RC24-UFPC USB Unifying レシーバー M570t、M705t、M545BK、K270、MX Master/Anywhereシリーズなどに対応\n",
      "6.Logicool ロジクール KX1000s bluetooth ワイヤレスキーボード CRAFT マルチデバイス Windows,Mac対応 Adobe CC対応, FLOW機能対応\n",
      "7.エプソン プリンター A3 ビジネスインクジェットFAX複合機 PX-M5080F\n",
      "8.マイクロソフト マウス Bluetooth対応/薄型/小型 Arc Mouse ELG-00007\n",
      "9.キングストン Kingston ゲーミング ヘッドセット HyperX Cloud Alpha HX-HSCA-RD/AS レッド/ブラック  インライン音量コントロールBox付属 2年保証\n",
      "10.SanDisk  SSD Ultra 3D ソリッドステートドライブ 500GB [国内正規品]メーカー3年保証付 SDSSDH3-500G-J25\n",
      "11.BenQ モニター ディスプレイ GL2580HM 24.5インチ/フルHD/TN/ウルトラスリムベゼル/HDMI,VGA,DVI端子/2ms/ブルーライト軽減\n",
      "12.【国内正規品】ゲーミングマウス SteelSeries Rival 310 Black 62433\n",
      "13.SanDisk  SSD Ultra 3D ソリッドステートドライブ 1TB [国内正規品]メーカー3年保証付 SDSSDH3-1T00-J25\n",
      "14.【Amazon.co.jp限定】Acer ノートパソコン AspireE15  Windows10/Core i3-6006U/15.6インチ/4GB/1TB HDD/ドライブなし E5-576-A34G/K\n",
      "15.Logicool ロジクール G603 LIGHTSPEED ワイヤレスゲーミングマウス  Windows,Mac,Chrome,Android対応 Bluetoothにも対応 最大12,000DPI\n",
      "16.エプソン プリンター インクジェット複合機 カラリオ EP-710A ホワイト\n",
      "17.ICOCO-LESHP プロジェクター 3200ml 1080PフルHD対応 1920x1080最大解像度 HDMIケーブル付属 ±15°台形補正 パソコン/スマホ/タブレットなど接続可能 日本語説明書 (ホワイト)\n",
      "18.山善(YAMAZEN) キュリオム フルハイビジョン録画対応 BD-R (1回録画用) 50枚スピンドル 4倍速 25GB BD-R50SP\n",
      "19.エプソン プリンター A3 ビジネスインクジェットFAX複合機 PX-M5081F\n",
      "20.Acer ゲーミング モニター KG251QFbmidpx (24.5インチ/TN/非光沢/フルHD/1ms/144Hz/DisplayPort搭載/スピーカー付)\n"
     ]
    }
   ],
   "source": [
    "for pc in soup.findAll(class_='zg_itemRow'):\n",
    "    print(pc.find(class_='zg_rankNumber').string.strip() + pc.find(class_='a-fixed-left-grid-col a-col-right').find('a').find('div').text.strip())"
   ]
  },
  {
   "cell_type": "code",
   "execution_count": null,
   "metadata": {
    "collapsed": true
   },
   "outputs": [],
   "source": []
  }
 ],
 "metadata": {
  "kernelspec": {
   "display_name": "Python 3",
   "language": "python",
   "name": "python3"
  },
  "language_info": {
   "codemirror_mode": {
    "name": "ipython",
    "version": 3
   },
   "file_extension": ".py",
   "mimetype": "text/x-python",
   "name": "python",
   "nbconvert_exporter": "python",
   "pygments_lexer": "ipython3",
   "version": "3.6.2"
  }
 },
 "nbformat": 4,
 "nbformat_minor": 2
}
